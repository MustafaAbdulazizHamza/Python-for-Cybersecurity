{
 "cells": [
  {
   "cell_type": "code",
   "execution_count": 1,
   "id": "cffa21d2-b36f-45b2-a97d-5fcc35537d3a",
   "metadata": {},
   "outputs": [],
   "source": [
    "import subprocess as sb\n",
    "import os"
   ]
  },
  {
   "cell_type": "code",
   "execution_count": 2,
   "id": "9133fb2d-e2d1-4ea0-ba83-0d3eddc101b7",
   "metadata": {},
   "outputs": [],
   "source": [
    "os.chdir(\"E:\\\\\")"
   ]
  },
  {
   "cell_type": "code",
   "execution_count": 3,
   "id": "4ab51fb1-fa3b-43e5-858b-c7bb403a79e8",
   "metadata": {},
   "outputs": [],
   "source": [
    "p1 = sb.run('mkdir subprocess', shell = True, capture_output=True, text=True) # To run a simple mkdir command, then capture its input\n",
    "if p1.returncode != 0: print(p1.stderr) # if the command was not successfully executed then the returncode != 0"
   ]
  },
  {
   "cell_type": "code",
   "execution_count": 4,
   "id": "5a711626-2ad2-407a-82c8-893554ddaf5e",
   "metadata": {},
   "outputs": [
    {
     "data": {
      "text/plain": [
       "CompletedProcess(args='rmdir subprocess', returncode=0)"
      ]
     },
     "execution_count": 4,
     "metadata": {},
     "output_type": "execute_result"
    }
   ],
   "source": [
    "sb.run('rmdir subprocess', shell=True)"
   ]
  },
  {
   "cell_type": "code",
   "execution_count": 5,
   "id": "a6c58ff8-f64b-40af-b544-5ef360c2ca7a",
   "metadata": {},
   "outputs": [
    {
     "name": "stdout",
     "output_type": "stream",
     "text": [
      "Starting Nmap 7.94 ( https://nmap.org ) at 2024-03-24 18:24 Arabic Standard Time\n",
      "Nmap scan report for scanme.nmap.org (45.33.32.156)\n",
      "Host is up (0.24s latency).\n",
      "\n",
      "PORT   STATE SERVICE VERSION\n",
      "22/tcp open  ssh     OpenSSH 6.6.1p1 Ubuntu 2ubuntu2.13 (Ubuntu Linux; protocol 2.0)\n",
      "Service Info: OS: Linux; CPE: cpe:/o:linux:linux_kernel\n",
      "\n",
      "Service detection performed. Please report any incorrect results at https://nmap.org/submit/ .\n",
      "Nmap done: 1 IP address (1 host up) scanned in 4.01 seconds\n",
      "\n"
     ]
    }
   ],
   "source": [
    "p2 = sb.run('nmap -sS -sV -p 22, 80 scanme.nmap.org', shell = True, capture_output=True, text=True)\n",
    "if p2.returncode == 0: print(p2.stdout)\n",
    "else: print(p2.stderr)"
   ]
  },
  {
   "cell_type": "code",
   "execution_count": 6,
   "id": "f3e1bf4a-812f-4302-b437-5beb902704e2",
   "metadata": {},
   "outputs": [
    {
     "name": "stdout",
     "output_type": "stream",
     "text": [
      "Starting Nmap 7.94 ( https://nmap.org ) at 2024-03-24 18:24 Arabic Standard Time\n",
      "Nmap scan report for scanme.nmap.org (45.33.32.156)\n",
      "Host is up (0.27s latency).\n",
      "\n",
      "PORT   STATE SERVICE VERSION\n",
      "22/tcp open  ssh     OpenSSH 6.6.1p1 Ubuntu 2ubuntu2.13 (Ubuntu Linux; protocol 2.0)\n",
      "Service Info: OS: Linux; CPE: cpe:/o:linux:linux_kernel\n",
      "\n",
      "Service detection performed. Please report any incorrect results at https://nmap.org/submit/ .\n",
      "Nmap done: 1 IP address (1 host up) scanned in 4.03 seconds\n",
      "\n"
     ]
    }
   ],
   "source": [
    "p3 = sb.run('nmap -sS -sV -p 22, 80 scanme.nmap.org', shell = True, stdout=sb.PIPE, text=True) # In this case, the variable p1 stores only stdout.\n",
    "if p3.returncode == 0: print(p3.stdout)"
   ]
  },
  {
   "cell_type": "markdown",
   "id": "79519f3c-d2ab-4bbf-8ae9-52a0744d1be8",
   "metadata": {},
   "source": [
    "********************************************************"
   ]
  },
  {
   "attachments": {},
   "cell_type": "markdown",
   "id": "04c6a34c-a5c7-4006-a9a0-b4361002e6d8",
   "metadata": {},
   "source": [
    "******To redirect the output of a command to a file.******"
   ]
  },
  {
   "cell_type": "code",
   "execution_count": 7,
   "id": "a32607f5-4bdb-493a-a433-32e76751f86c",
   "metadata": {},
   "outputs": [
    {
     "name": "stdout",
     "output_type": "stream",
     "text": [
      "Getting data from the file\n",
      "Starting Nmap 7.94 ( https://nmap.org ) at 2024-03-24 18:24 Arabic Standard Time\n",
      "Nmap scan report for scanme.nmap.org (45.33.32.156)\n",
      "Host is up (0.25s latency).\n",
      "\n",
      "PORT   STATE SERVICE\n",
      "22/tcp open  ssh\n",
      "80/tcp open  http\n",
      "\n",
      "Nmap done: 1 IP address (1 host up) scanned in 0.70 seconds\n",
      "\n"
     ]
    }
   ],
   "source": [
    "import subprocess as sb\n",
    "with open(r\"E:\\nmap_output.txt\", 'w') as ou:\n",
    "    sb.run('nmap -sS -p 22,80 scanme.nmap.org', shell = True,text=True, stdout=ou)\n",
    "print(\"Getting data from the file\")\n",
    "with open(r\"E:\\nmap_output.txt\", 'r') as i: print(i.read()) "
   ]
  }
 ],
 "metadata": {
  "kernelspec": {
   "display_name": "Python 3 (ipykernel)",
   "language": "python",
   "name": "python3"
  },
  "language_info": {
   "codemirror_mode": {
    "name": "ipython",
    "version": 3
   },
   "file_extension": ".py",
   "mimetype": "text/x-python",
   "name": "python",
   "nbconvert_exporter": "python",
   "pygments_lexer": "ipython3",
   "version": "3.11.5"
  }
 },
 "nbformat": 4,
 "nbformat_minor": 5
}
