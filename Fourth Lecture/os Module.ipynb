{
 "cells": [
  {
   "cell_type": "code",
   "execution_count": 1,
   "id": "c95233a0-67e0-4ae3-a6ee-8f550f50dff5",
   "metadata": {},
   "outputs": [],
   "source": [
    "import os"
   ]
  },
  {
   "cell_type": "code",
   "execution_count": 2,
   "id": "c8d82854-b36f-446d-a611-2f5ba1d2022f",
   "metadata": {},
   "outputs": [
    {
     "name": "stdout",
     "output_type": "stream",
     "text": [
      "True\n"
     ]
    }
   ],
   "source": [
    "loc = os.getcwd()\n",
    "os.chdir(\"F:\\\\\") # Change Directory\n",
    "os.mkdir(\"OS Module\") # Make Directory\n",
    "os.chdir('OS Module') \n",
    "with open('file.txt', 'w') as f: f.write(\"This is a file!\") # To create a file\n",
    "print(os.path.isfile('file.txt')) # If it exists the function with return True."
   ]
  },
  {
   "cell_type": "code",
   "execution_count": 3,
   "id": "0997a5bd-2af6-4fd8-81c7-9bb674641510",
   "metadata": {},
   "outputs": [
    {
     "name": "stdout",
     "output_type": "stream",
     "text": [
      "F:\\OS Module\n"
     ]
    }
   ],
   "source": [
    "print(os.getcwd()) # To get the current working directory"
   ]
  },
  {
   "cell_type": "code",
   "execution_count": 4,
   "id": "be654d67-306f-42fd-aeff-ad7c8134726d",
   "metadata": {},
   "outputs": [
    {
     "data": {
      "text/plain": [
       "['file.txt']"
      ]
     },
     "execution_count": 4,
     "metadata": {},
     "output_type": "execute_result"
    }
   ],
   "source": [
    "os.listdir() # To list the contents of the CWD."
   ]
  },
  {
   "cell_type": "code",
   "execution_count": 5,
   "id": "a309a3e0-4b49-4d0d-8720-d8c2c6d1b7b8",
   "metadata": {},
   "outputs": [
    {
     "name": "stdout",
     "output_type": "stream",
     "text": [
      "False\n"
     ]
    }
   ],
   "source": [
    "os.remove('file.txt') # Remove the file.\n",
    "print(os.path.isfile('file.txt')) "
   ]
  },
  {
   "cell_type": "code",
   "execution_count": 6,
   "id": "addc4e54-4ba7-4b15-a3c0-ceeec5f0119f",
   "metadata": {},
   "outputs": [],
   "source": [
    "os.chdir('..')\n",
    "os.rmdir('OS Module')"
   ]
  },
  {
   "cell_type": "code",
   "execution_count": 7,
   "id": "fd661be9-72ee-4505-b19e-1425551f5531",
   "metadata": {},
   "outputs": [
    {
     "data": {
      "text/plain": [
       "'F:\\\\'"
      ]
     },
     "execution_count": 7,
     "metadata": {},
     "output_type": "execute_result"
    }
   ],
   "source": [
    "os.getcwd()"
   ]
  },
  {
   "cell_type": "code",
   "execution_count": 8,
   "id": "950e6b1c-0a63-4eff-8913-9b4cc3ed8103",
   "metadata": {},
   "outputs": [
    {
     "name": "stdout",
     "output_type": "stream",
     "text": [
      "E:\\Cybersecurity And Cloud Computing\\Database Systems\\Lab\\Python\\Jupyter\n",
      "E:\\Cybersecurity And Cloud Computing\\Database Systems\\Lab\\Python\\Jupyter\\file.txt\n"
     ]
    }
   ],
   "source": [
    "# Path manipulation\n",
    "print(loc)\n",
    "loc = f\"{loc}\\\\file.txt\"\n",
    "print(loc)"
   ]
  },
  {
   "cell_type": "code",
   "execution_count": 9,
   "id": "1151b93e-21b3-4bf8-8e39-dbdea444902b",
   "metadata": {},
   "outputs": [
    {
     "data": {
      "text/plain": [
       "'E:\\\\Cybersecurity And Cloud Computing\\\\Database Systems\\\\Lab\\\\Python\\\\Jupyter\\\\file.txt'"
      ]
     },
     "execution_count": 9,
     "metadata": {},
     "output_type": "execute_result"
    }
   ],
   "source": [
    "os.path.abspath(loc)"
   ]
  },
  {
   "cell_type": "code",
   "execution_count": 10,
   "id": "5bdf7c9f-dd3d-4ffd-b6fb-917307051b1b",
   "metadata": {},
   "outputs": [
    {
     "data": {
      "text/plain": [
       "'file.txt'"
      ]
     },
     "execution_count": 10,
     "metadata": {},
     "output_type": "execute_result"
    }
   ],
   "source": [
    "os.path.basename(loc)"
   ]
  },
  {
   "cell_type": "code",
   "execution_count": 11,
   "id": "72c651fa-a826-4602-863e-059e5d2a70bf",
   "metadata": {},
   "outputs": [
    {
     "data": {
      "text/plain": [
       "'E:\\\\Cybersecurity And Cloud Computing\\\\Database Systems\\\\Lab\\\\Python\\\\Jupyter'"
      ]
     },
     "execution_count": 11,
     "metadata": {},
     "output_type": "execute_result"
    }
   ],
   "source": [
    "os.path.dirname(loc)"
   ]
  },
  {
   "cell_type": "code",
   "execution_count": 12,
   "id": "b33f3d83-906b-4ce5-a9df-9e4241074b48",
   "metadata": {},
   "outputs": [
    {
     "data": {
      "text/plain": [
       "False"
      ]
     },
     "execution_count": 12,
     "metadata": {},
     "output_type": "execute_result"
    }
   ],
   "source": [
    "os.path.isfile(loc)"
   ]
  },
  {
   "cell_type": "code",
   "execution_count": 13,
   "id": "36de02c5-74f1-4297-9850-61cf765341a6",
   "metadata": {},
   "outputs": [
    {
     "data": {
      "text/plain": [
       "False"
      ]
     },
     "execution_count": 13,
     "metadata": {},
     "output_type": "execute_result"
    }
   ],
   "source": [
    "os.path.isdir(loc)"
   ]
  },
  {
   "cell_type": "code",
   "execution_count": 14,
   "id": "75919974-58c3-496c-a200-148c23327b37",
   "metadata": {},
   "outputs": [
    {
     "data": {
      "text/plain": [
       "False"
      ]
     },
     "execution_count": 14,
     "metadata": {},
     "output_type": "execute_result"
    }
   ],
   "source": [
    "os.path.islink(loc)"
   ]
  },
  {
   "cell_type": "code",
   "execution_count": 15,
   "id": "1754918a-d613-4dbb-b6dc-7e2974fb8ce1",
   "metadata": {},
   "outputs": [
    {
     "data": {
      "text/plain": [
       "False"
      ]
     },
     "execution_count": 15,
     "metadata": {},
     "output_type": "execute_result"
    }
   ],
   "source": [
    "os.path.exists(loc)"
   ]
  },
  {
   "cell_type": "code",
   "execution_count": 16,
   "id": "9f90a098-6a9c-483c-b482-300e5c38143e",
   "metadata": {},
   "outputs": [
    {
     "data": {
      "text/plain": [
       "True"
      ]
     },
     "execution_count": 16,
     "metadata": {},
     "output_type": "execute_result"
    }
   ],
   "source": [
    "os.path.isdir(os.path.dirname(loc))"
   ]
  },
  {
   "cell_type": "code",
   "execution_count": 17,
   "id": "892e9a22-ec58-46fc-8c27-08ae6ed2832a",
   "metadata": {},
   "outputs": [],
   "source": [
    "os.chdir(os.path.dirname(loc))"
   ]
  },
  {
   "cell_type": "code",
   "execution_count": 18,
   "id": "be1ba882-19e7-4a96-81a8-87df901d6127",
   "metadata": {},
   "outputs": [
    {
     "data": {
      "text/plain": [
       "'E:\\\\Cybersecurity And Cloud Computing\\\\Database Systems\\\\Lab\\\\Python\\\\Jupyter'"
      ]
     },
     "execution_count": 18,
     "metadata": {},
     "output_type": "execute_result"
    }
   ],
   "source": [
    "os.getcwd()"
   ]
  },
  {
   "cell_type": "code",
   "execution_count": 19,
   "id": "a9659066-f228-4e77-b1b2-f669a424fdb5",
   "metadata": {},
   "outputs": [
    {
     "data": {
      "text/plain": [
       "16"
      ]
     },
     "execution_count": 19,
     "metadata": {},
     "output_type": "execute_result"
    }
   ],
   "source": [
    "os.cpu_count()"
   ]
  },
  {
   "cell_type": "code",
   "execution_count": 20,
   "id": "f61b7203-1c94-4db9-8932-84a95dcf4d02",
   "metadata": {},
   "outputs": [
    {
     "data": {
      "text/plain": [
       "'PC'"
      ]
     },
     "execution_count": 20,
     "metadata": {},
     "output_type": "execute_result"
    }
   ],
   "source": [
    "os.getlogin()"
   ]
  }
 ],
 "metadata": {
  "kernelspec": {
   "display_name": "Python 3 (ipykernel)",
   "language": "python",
   "name": "python3"
  },
  "language_info": {
   "codemirror_mode": {
    "name": "ipython",
    "version": 3
   },
   "file_extension": ".py",
   "mimetype": "text/x-python",
   "name": "python",
   "nbconvert_exporter": "python",
   "pygments_lexer": "ipython3",
   "version": "3.11.5"
  }
 },
 "nbformat": 4,
 "nbformat_minor": 5
}
