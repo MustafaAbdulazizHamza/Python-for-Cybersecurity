{
 "cells": [
  {
   "cell_type": "code",
   "execution_count": 1,
   "id": "aa758e25-8dfa-474b-a265-b8f22c49f324",
   "metadata": {},
   "outputs": [],
   "source": [
    "from cryptography.fernet import Fernet, MultiFernet"
   ]
  },
  {
   "cell_type": "markdown",
   "id": "f8658375-e774-499e-af53-5436d1d89108",
   "metadata": {},
   "source": [
    "*******Implementing Ciphertext using Fernet Cryptography*******"
   ]
  },
  {
   "cell_type": "code",
   "execution_count": 2,
   "id": "1040b4ff-eb62-453f-bfd9-5455e6ec16fc",
   "metadata": {},
   "outputs": [
    {
     "data": {
      "text/plain": [
       "b'WGcr0vg1Ze-xmXCWZj-UnfOOiMceQ63Y3B2tMnmRpN4='"
      ]
     },
     "execution_count": 2,
     "metadata": {},
     "output_type": "execute_result"
    }
   ],
   "source": [
    "plaintext = \"Hello, World\"\n",
    "key = Fernet.generate_key()\n",
    "key"
   ]
  },
  {
   "cell_type": "code",
   "execution_count": 3,
   "id": "8d918211-dbbd-4540-9108-0a8dcf921fc3",
   "metadata": {},
   "outputs": [
    {
     "data": {
      "text/plain": [
       "b'gAAAAABl_yZb5KzEFPtPd_5iAc_INJSKw1NXwovAbgH5s4cq_r8pWB8LUCNdwdFsQyyh7TxXB1EbKcEb3DyXC5u-C_EzmbZtfw=='"
      ]
     },
     "execution_count": 3,
     "metadata": {},
     "output_type": "execute_result"
    }
   ],
   "source": [
    "f = Fernet(key)\n",
    "cipher = f.encrypt(plaintext.encode())\n",
    "cipher"
   ]
  },
  {
   "cell_type": "code",
   "execution_count": 4,
   "id": "039b3b48-18e4-4904-9f44-52895fc38a7d",
   "metadata": {},
   "outputs": [
    {
     "data": {
      "text/plain": [
       "'gAAAAABl_yZb5KzEFPtPd_5iAc_INJSKw1NXwovAbgH5s4cq_r8pWB8LUCNdwdFsQyyh7TxXB1EbKcEb3DyXC5u-C_EzmbZtfw=='"
      ]
     },
     "execution_count": 4,
     "metadata": {},
     "output_type": "execute_result"
    }
   ],
   "source": [
    "cipher.decode()"
   ]
  },
  {
   "cell_type": "code",
   "execution_count": 5,
   "id": "8a849ed3-c508-424f-a5c2-39bf308f6f1d",
   "metadata": {},
   "outputs": [
    {
     "data": {
      "text/plain": [
       "'Hello, World'"
      ]
     },
     "execution_count": 5,
     "metadata": {},
     "output_type": "execute_result"
    }
   ],
   "source": [
    "plainText_again = f.decrypt(cipher)\n",
    "plainText_again.decode()"
   ]
  },
  {
   "cell_type": "markdown",
   "id": "79b6b19e-b7af-48c1-aa2e-6a1a1e3001c8",
   "metadata": {},
   "source": [
    "*******Implementing Ciphertext using MultiFernet Cryptography*******"
   ]
  },
  {
   "cell_type": "code",
   "execution_count": 6,
   "id": "1cc1cd28-9465-491c-809e-8b72d4848ab9",
   "metadata": {},
   "outputs": [
    {
     "name": "stdout",
     "output_type": "stream",
     "text": [
      "<cryptography.fernet.Fernet object at 0x000001E3B8F94410> \n",
      " <cryptography.fernet.Fernet object at 0x000001E3B8F95410>\n"
     ]
    }
   ],
   "source": [
    "key1 = Fernet(Fernet.generate_key())\n",
    "key2 = Fernet(Fernet.generate_key())\n",
    "print(key1,'\\n',key2)"
   ]
  },
  {
   "cell_type": "code",
   "execution_count": 7,
   "id": "6945f6c6-3e85-4c7c-99d8-6513e9a893f6",
   "metadata": {},
   "outputs": [],
   "source": [
    "mf = MultiFernet([key1, key2])"
   ]
  },
  {
   "cell_type": "code",
   "execution_count": 8,
   "id": "d7192bda-d2bc-43d2-b6aa-0ab28e806f12",
   "metadata": {},
   "outputs": [
    {
     "data": {
      "text/plain": [
       "'gAAAAABl_yZbgWjV_6MbIQD5LNM0YJWxZxzXPxRwjTbf5aYu-Lg4yiE_WtrFTdz_djhLoXlK55VInQT-ldQTHkYIyp61JHgNuQ=='"
      ]
     },
     "execution_count": 8,
     "metadata": {},
     "output_type": "execute_result"
    }
   ],
   "source": [
    "cipherText = mf.encrypt(plaintext.encode())\n",
    "cipherText.decode()"
   ]
  },
  {
   "cell_type": "code",
   "execution_count": 9,
   "id": "eb825c1f-605a-432d-8933-e99117b9c02c",
   "metadata": {},
   "outputs": [
    {
     "data": {
      "text/plain": [
       "'Hello, World'"
      ]
     },
     "execution_count": 9,
     "metadata": {},
     "output_type": "execute_result"
    }
   ],
   "source": [
    "plainText_again =  mf.decrypt(cipherText)\n",
    "plainText_again.decode()"
   ]
  }
 ],
 "metadata": {
  "kernelspec": {
   "display_name": "Python 3 (ipykernel)",
   "language": "python",
   "name": "python3"
  },
  "language_info": {
   "codemirror_mode": {
    "name": "ipython",
    "version": 3
   },
   "file_extension": ".py",
   "mimetype": "text/x-python",
   "name": "python",
   "nbconvert_exporter": "python",
   "pygments_lexer": "ipython3",
   "version": "3.11.5"
  }
 },
 "nbformat": 4,
 "nbformat_minor": 5
}
