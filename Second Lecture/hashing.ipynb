{
 "cells": [
  {
   "cell_type": "code",
   "execution_count": 1,
   "id": "e4819ab9-9fe8-4844-99ac-ce98cd26dc4a",
   "metadata": {},
   "outputs": [],
   "source": [
    "import hashlib"
   ]
  },
  {
   "cell_type": "code",
   "execution_count": 2,
   "id": "d3a35848-a757-4591-b7ba-c31a8cd4a096",
   "metadata": {},
   "outputs": [
    {
     "name": "stdout",
     "output_type": "stream",
     "text": [
      "b'password'\n"
     ]
    }
   ],
   "source": [
    "str = 'password'\n",
    "print(str.encode('utf-8'))"
   ]
  },
  {
   "cell_type": "code",
   "execution_count": 3,
   "id": "ad7ce73b-0ece-48fe-b368-98273a690f4d",
   "metadata": {},
   "outputs": [
    {
     "data": {
      "text/plain": [
       "b\"^\\x88H\\x98\\xda(\\x04qQ\\xd0\\xe5o\\x8d\\xc6)'s`=\\rj\\xab\\xbd\\xd6*\\x11\\xefr\\x1d\\x15B\\xd8\""
      ]
     },
     "execution_count": 3,
     "metadata": {},
     "output_type": "execute_result"
    }
   ],
   "source": [
    "hashlib.sha256('password'.encode()).digest()"
   ]
  },
  {
   "cell_type": "code",
   "execution_count": 4,
   "id": "d7579d94-a6b5-4900-9451-e8ded261bb8d",
   "metadata": {},
   "outputs": [
    {
     "data": {
      "text/plain": [
       "'5e884898da28047151d0e56f8dc6292773603d0d6aabbdd62a11ef721d1542d8'"
      ]
     },
     "execution_count": 4,
     "metadata": {},
     "output_type": "execute_result"
    }
   ],
   "source": [
    "hashlib.sha256('password'.encode()).hexdigest()"
   ]
  },
  {
   "cell_type": "code",
   "execution_count": 5,
   "id": "26d41552-e1af-46d3-b71d-90c1bd8cb887",
   "metadata": {},
   "outputs": [
    {
     "data": {
      "text/plain": [
       "'f2bc5b1d869870d7688f71b2d87030bd'"
      ]
     },
     "execution_count": 5,
     "metadata": {},
     "output_type": "execute_result"
    }
   ],
   "source": [
    "hashlib.md5(\"plaintext\".encode()).hexdigest()"
   ]
  },
  {
   "cell_type": "code",
   "execution_count": 6,
   "id": "daa0783a-6ad7-4342-ab93-ee8e5d04d1d3",
   "metadata": {},
   "outputs": [
    {
     "data": {
      "text/plain": [
       "'4dfb62e1a03419247a0a4811d0fef1fdd7244879ab887046dc73db8076a07526a014626bd99748ede66f23c1896d0af0cf97567c8cfd46c791d73bfe3e42db14'"
      ]
     },
     "execution_count": 6,
     "metadata": {},
     "output_type": "execute_result"
    }
   ],
   "source": [
    "hashlib.blake2b(\"str\".encode()).hexdigest()"
   ]
  },
  {
   "cell_type": "code",
   "execution_count": 7,
   "id": "59ad373c-163e-44ee-8f7b-dfb6b4b117ca",
   "metadata": {},
   "outputs": [
    {
     "data": {
      "text/plain": [
       "'399522f300cea9b23a73adb37acba28fa528789f3931c38a55fca68e12e5e6a0de8b94cebbdbc62713cd5a8e7f35eb219b02574455d35c6ca4b8b2888acc0a51'"
      ]
     },
     "execution_count": 7,
     "metadata": {},
     "output_type": "execute_result"
    }
   ],
   "source": [
    "hashlib.new('blake2b', 'test input'.encode()).hexdigest()"
   ]
  },
  {
   "cell_type": "code",
   "execution_count": 8,
   "id": "cb1c5361-3ab0-44fd-8b80-d92a0ecd8cff",
   "metadata": {},
   "outputs": [
    {
     "data": {
      "text/plain": [
       "'5baa61e4c9b93f3f0682250b6cf8331b7ee68fd8'"
      ]
     },
     "execution_count": 8,
     "metadata": {},
     "output_type": "execute_result"
    }
   ],
   "source": [
    "hashlib.new('sha1', b'password').hexdigest()"
   ]
  },
  {
   "cell_type": "code",
   "execution_count": 9,
   "id": "830b8c37-caf2-4823-8521-d7006ebbc06a",
   "metadata": {},
   "outputs": [
    {
     "data": {
      "text/plain": [
       "{'blake2b',\n",
       " 'blake2s',\n",
       " 'md5',\n",
       " 'md5-sha1',\n",
       " 'ripemd160',\n",
       " 'sha1',\n",
       " 'sha224',\n",
       " 'sha256',\n",
       " 'sha384',\n",
       " 'sha3_224',\n",
       " 'sha3_256',\n",
       " 'sha3_384',\n",
       " 'sha3_512',\n",
       " 'sha512',\n",
       " 'sha512_224',\n",
       " 'sha512_256',\n",
       " 'shake_128',\n",
       " 'shake_256',\n",
       " 'sm3'}"
      ]
     },
     "execution_count": 9,
     "metadata": {},
     "output_type": "execute_result"
    }
   ],
   "source": [
    "hashlib.algorithms_available"
   ]
  },
  {
   "cell_type": "code",
   "execution_count": 10,
   "id": "8ccae2de-2f1b-4bde-8a8e-aaf23d22784f",
   "metadata": {},
   "outputs": [
    {
     "name": "stdout",
     "output_type": "stream",
     "text": [
      "sha384\n",
      "a8b64babd0aca91a59bdbb7761b421d4f2bb38280d3a75ba0f21f2bebc45583d446c598660c94ce680c47d19c30783a7\n",
      "******************************\n",
      "blake2s\n",
      "4c81099df884bd6e14a639d648bccd808512e48af211ae4f44d545ea6d5e5f2b\n",
      "******************************\n",
      "shake_128\n",
      "0ac28ef634f3a8415ae5ef6e614bf11f1a18df4d1fa05a4dd1e6a0acd93bfc57f206f3fe9ffc268266b74817c47ca689e7062247eb9ccc61605079f9f7200112c8538dffff8f0f6d1ef8c0ad1509a62a173e2e434817a2775b4d4652efea4c10284a654bacd54638bedf616831f836bf77fc4e47a69ab74e337d0748c194a242\n",
      "******************************\n",
      "sha512\n",
      "b109f3bbbc244eb82441917ed06d618b9008dd09b3befd1b5e07394c706a8bb980b1d7785e5976ec049b46df5f1326af5a2ea6d103fd07c95385ffab0cacbc86\n",
      "******************************\n",
      "md5-sha1\n",
      "5f4dcc3b5aa765d61d8327deb882cf995baa61e4c9b93f3f0682250b6cf8331b7ee68fd8\n",
      "******************************\n",
      "sha512_256\n",
      "f3f22d82ccf54a92cfc584d9f1531cbf29b11b513f7f68a20a2fa707f3450220\n",
      "******************************\n",
      "sha256\n",
      "5e884898da28047151d0e56f8dc6292773603d0d6aabbdd62a11ef721d1542d8\n",
      "******************************\n",
      "sha3_256\n",
      "c0067d4af4e87f00dbac63b6156828237059172d1bbeac67427345d6a9fda484\n",
      "******************************\n",
      "sha3_512\n",
      "e9a75486736a550af4fea861e2378305c4a555a05094dee1dca2f68afea49cc3a50e8de6ea131ea521311f4d6fb054a146e8282f8e35ff2e6368c1a62e909716\n",
      "******************************\n",
      "sha1\n",
      "5baa61e4c9b93f3f0682250b6cf8331b7ee68fd8\n",
      "******************************\n",
      "md5\n",
      "5f4dcc3b5aa765d61d8327deb882cf99\n",
      "******************************\n",
      "sha3_224\n",
      "c3f847612c3780385a859a1993dfd9fe7c4e6d7f477148e527e9374c\n",
      "******************************\n",
      "shake_256\n",
      "a5ee08f8e3abe7d592f6de77f1d3298a1149eba68b97f091c90b7736a1be63ab2d425f94c5346cac64807f20f654c5ad9063a4d12902c5e455334912157548838a407cf7ec1da143a55dbb913d7836646f1cd5479232ab12ca8ae4836fef55c053c9d8b9c3b6c28f1d01487af122b6e0ba89a0352006319595535b51ef59e76681bd9a4ea955b5eef537a2eb6aff0cf953fad17404972a5e3a40ebf16859519caf06fcf75aeb72795bad64d3afb170076c452464a3bfadacb3b5fd6d268af54252b493b07d0231fdf40a75d9914ec81986d0ac6689ffcc47267cab8a563a9196570c2fb1e2df74fdfa7e98d77878e224d20053a3cd6c46d9bd20671617c54033\n",
      "******************************\n",
      "sha224\n",
      "d63dc919e201d7bc4c825630d2cf25fdc93d4b2f0d46706d29038d01\n",
      "******************************\n",
      "sm3\n",
      "08594e140bcc046e345325435218f67a85c38c63de6443b197b544d70ee62f26\n",
      "******************************\n",
      "blake2b\n",
      "7c863950ac93c93692995e4732ce1e1466ad74a775352ffbaaf2a4a4ce9b549d0b414a1f3150452be6c7c72c694a7cb46f76452917298d33e67611f0a42addb8\n",
      "******************************\n",
      "sha3_384\n",
      "9c1565e99afa2ce7800e96a73c125363c06697c5674d59f227b3368fd00b85ead506eefa90702673d873cb2c9357eafc\n",
      "******************************\n",
      "sha512_224\n",
      "f2356967afbae0c00f7a58d28a126fe034d555397d0d0772d1427c98\n",
      "******************************\n",
      "ripemd160\n",
      "2c08e8f5884750a7b99f6f2f342fc638db25ff31\n",
      "******************************\n"
     ]
    }
   ],
   "source": [
    "for algo in hashlib.algorithms_available:\n",
    "    print(algo)\n",
    "    if algo == 'shake_128': print(hashlib.new(algo, 'password'.encode()).hexdigest(length=128))\n",
    "    elif algo == 'shake_256': print(hashlib.new(algo, 'password'.encode()).hexdigest(length=256))\n",
    "    else:\n",
    "        print(hashlib.new(algo, 'password'.encode()).hexdigest())\n",
    "    print(30*\"*\")"
   ]
  },
  {
   "cell_type": "code",
   "execution_count": 11,
   "id": "df328af7-31e6-4d62-93d4-6a785c9c996a",
   "metadata": {},
   "outputs": [
    {
     "name": "stdout",
     "output_type": "stream",
     "text": [
      "sha384\n",
      "b'\\xa8\\xb6K\\xab\\xd0\\xac\\xa9\\x1aY\\xbd\\xbbwa\\xb4!\\xd4\\xf2\\xbb8(\\r:u\\xba\\x0f!\\xf2\\xbe\\xbcEX=DlY\\x86`\\xc9L\\xe6\\x80\\xc4}\\x19\\xc3\\x07\\x83\\xa7'\n",
      "******************************\n",
      "blake2s\n",
      "b'L\\x81\\t\\x9d\\xf8\\x84\\xbdn\\x14\\xa69\\xd6H\\xbc\\xcd\\x80\\x85\\x12\\xe4\\x8a\\xf2\\x11\\xaeOD\\xd5E\\xeam^_+'\n",
      "******************************\n",
      "shake_128\n",
      "b'\\n\\xc2\\x8e\\xf64\\xf3\\xa8AZ\\xe5\\xefnaK\\xf1\\x1f\\x1a\\x18\\xdfM\\x1f\\xa0ZM\\xd1\\xe6\\xa0\\xac\\xd9;\\xfcW\\xf2\\x06\\xf3\\xfe\\x9f\\xfc&\\x82f\\xb7H\\x17\\xc4|\\xa6\\x89\\xe7\\x06\"G\\xeb\\x9c\\xcca`Py\\xf9\\xf7 \\x01\\x12\\xc8S\\x8d\\xff\\xff\\x8f\\x0fm\\x1e\\xf8\\xc0\\xad\\x15\\t\\xa6*\\x17>.CH\\x17\\xa2w[MFR\\xef\\xeaL\\x10(JeK\\xac\\xd5F8\\xbe\\xdfah1\\xf86\\xbfw\\xfcNG\\xa6\\x9a\\xb7N3}\\x07H\\xc1\\x94\\xa2B'\n",
      "******************************\n",
      "sha512\n",
      "b'\\xb1\\t\\xf3\\xbb\\xbc$N\\xb8$A\\x91~\\xd0ma\\x8b\\x90\\x08\\xdd\\t\\xb3\\xbe\\xfd\\x1b^\\x079Lpj\\x8b\\xb9\\x80\\xb1\\xd7x^Yv\\xec\\x04\\x9bF\\xdf_\\x13&\\xafZ.\\xa6\\xd1\\x03\\xfd\\x07\\xc9S\\x85\\xff\\xab\\x0c\\xac\\xbc\\x86'\n",
      "******************************\n",
      "md5-sha1\n",
      "b\"_M\\xcc;Z\\xa7e\\xd6\\x1d\\x83'\\xde\\xb8\\x82\\xcf\\x99[\\xaaa\\xe4\\xc9\\xb9??\\x06\\x82%\\x0bl\\xf83\\x1b~\\xe6\\x8f\\xd8\"\n",
      "******************************\n",
      "sha512_256\n",
      "b'\\xf3\\xf2-\\x82\\xcc\\xf5J\\x92\\xcf\\xc5\\x84\\xd9\\xf1S\\x1c\\xbf)\\xb1\\x1bQ?\\x7fh\\xa2\\n/\\xa7\\x07\\xf3E\\x02 '\n",
      "******************************\n",
      "sha256\n",
      "b\"^\\x88H\\x98\\xda(\\x04qQ\\xd0\\xe5o\\x8d\\xc6)'s`=\\rj\\xab\\xbd\\xd6*\\x11\\xefr\\x1d\\x15B\\xd8\"\n",
      "******************************\n",
      "sha3_256\n",
      "b'\\xc0\\x06}J\\xf4\\xe8\\x7f\\x00\\xdb\\xacc\\xb6\\x15h(#pY\\x17-\\x1b\\xbe\\xacgBsE\\xd6\\xa9\\xfd\\xa4\\x84'\n",
      "******************************\n",
      "sha3_512\n",
      "b'\\xe9\\xa7T\\x86sjU\\n\\xf4\\xfe\\xa8a\\xe27\\x83\\x05\\xc4\\xa5U\\xa0P\\x94\\xde\\xe1\\xdc\\xa2\\xf6\\x8a\\xfe\\xa4\\x9c\\xc3\\xa5\\x0e\\x8d\\xe6\\xea\\x13\\x1e\\xa5!1\\x1fMo\\xb0T\\xa1F\\xe8(/\\x8e5\\xff.ch\\xc1\\xa6.\\x90\\x97\\x16'\n",
      "******************************\n",
      "sha1\n",
      "b'[\\xaaa\\xe4\\xc9\\xb9??\\x06\\x82%\\x0bl\\xf83\\x1b~\\xe6\\x8f\\xd8'\n",
      "******************************\n",
      "md5\n",
      "b\"_M\\xcc;Z\\xa7e\\xd6\\x1d\\x83'\\xde\\xb8\\x82\\xcf\\x99\"\n",
      "******************************\n",
      "sha3_224\n",
      "b\"\\xc3\\xf8Ga,7\\x808Z\\x85\\x9a\\x19\\x93\\xdf\\xd9\\xfe|Nm\\x7fGqH\\xe5'\\xe97L\"\n",
      "******************************\n",
      "shake_256\n",
      "b'\\xa5\\xee\\x08\\xf8\\xe3\\xab\\xe7\\xd5\\x92\\xf6\\xdew\\xf1\\xd3)\\x8a\\x11I\\xeb\\xa6\\x8b\\x97\\xf0\\x91\\xc9\\x0bw6\\xa1\\xbec\\xab-B_\\x94\\xc54l\\xacd\\x80\\x7f \\xf6T\\xc5\\xad\\x90c\\xa4\\xd1)\\x02\\xc5\\xe4U3I\\x12\\x15uH\\x83\\x8a@|\\xf7\\xec\\x1d\\xa1C\\xa5]\\xbb\\x91=x6do\\x1c\\xd5G\\x922\\xab\\x12\\xca\\x8a\\xe4\\x83o\\xefU\\xc0S\\xc9\\xd8\\xb9\\xc3\\xb6\\xc2\\x8f\\x1d\\x01Hz\\xf1\"\\xb6\\xe0\\xba\\x89\\xa05 \\x061\\x95\\x95S[Q\\xefY\\xe7f\\x81\\xbd\\x9aN\\xa9U\\xb5\\xee\\xf57\\xa2\\xebj\\xff\\x0c\\xf9S\\xfa\\xd1t\\x04\\x97*^:@\\xeb\\xf1hYQ\\x9c\\xaf\\x06\\xfc\\xf7Z\\xebry[\\xadd\\xd3\\xaf\\xb1p\\x07lE$d\\xa3\\xbf\\xad\\xac\\xb3\\xb5\\xfdm&\\x8a\\xf5BR\\xb4\\x93\\xb0}\\x021\\xfd\\xf4\\nu\\xd9\\x91N\\xc8\\x19\\x86\\xd0\\xacf\\x89\\xff\\xccG&|\\xab\\x8aV:\\x91\\x96W\\x0c/\\xb1\\xe2\\xdft\\xfd\\xfa~\\x98\\xd7xx\\xe2$\\xd2\\x00S\\xa3\\xcdlF\\xd9\\xbd g\\x16\\x17\\xc5@3'\n",
      "******************************\n",
      "sha224\n",
      "b'\\xd6=\\xc9\\x19\\xe2\\x01\\xd7\\xbcL\\x82V0\\xd2\\xcf%\\xfd\\xc9=K/\\rFpm)\\x03\\x8d\\x01'\n",
      "******************************\n",
      "sm3\n",
      "b'\\x08YN\\x14\\x0b\\xcc\\x04n4S%CR\\x18\\xf6z\\x85\\xc3\\x8cc\\xdedC\\xb1\\x97\\xb5D\\xd7\\x0e\\xe6/&'\n",
      "******************************\n",
      "blake2b\n",
      "b'|\\x869P\\xac\\x93\\xc96\\x92\\x99^G2\\xce\\x1e\\x14f\\xadt\\xa7u5/\\xfb\\xaa\\xf2\\xa4\\xa4\\xce\\x9bT\\x9d\\x0bAJ\\x1f1PE+\\xe6\\xc7\\xc7,iJ|\\xb4ovE)\\x17)\\x8d3\\xe6v\\x11\\xf0\\xa4*\\xdd\\xb8'\n",
      "******************************\n",
      "sha3_384\n",
      "b\"\\x9c\\x15e\\xe9\\x9a\\xfa,\\xe7\\x80\\x0e\\x96\\xa7<\\x12Sc\\xc0f\\x97\\xc5gMY\\xf2'\\xb36\\x8f\\xd0\\x0b\\x85\\xea\\xd5\\x06\\xee\\xfa\\x90p&s\\xd8s\\xcb,\\x93W\\xea\\xfc\"\n",
      "******************************\n",
      "sha512_224\n",
      "b'\\xf25ig\\xaf\\xba\\xe0\\xc0\\x0fzX\\xd2\\x8a\\x12o\\xe04\\xd5U9}\\r\\x07r\\xd1B|\\x98'\n",
      "******************************\n",
      "ripemd160\n",
      "b',\\x08\\xe8\\xf5\\x88GP\\xa7\\xb9\\x9fo/4/\\xc68\\xdb%\\xff1'\n",
      "******************************\n"
     ]
    }
   ],
   "source": [
    " for algo in hashlib.algorithms_available:\n",
    "    print(algo)\n",
    "    if algo == 'shake_128': print(hashlib.new(algo, 'password'.encode()).digest(length=128))\n",
    "    elif algo == 'shake_256': print(hashlib.new(algo, 'password'.encode()).digest(length=256))\n",
    "    else:\n",
    "        print(hashlib.new(algo, 'password'.encode()).digest())\n",
    "    print(30*\"*\")"
   ]
  }
 ],
 "metadata": {
  "kernelspec": {
   "display_name": "Python 3 (ipykernel)",
   "language": "python",
   "name": "python3"
  },
  "language_info": {
   "codemirror_mode": {
    "name": "ipython",
    "version": 3
   },
   "file_extension": ".py",
   "mimetype": "text/x-python",
   "name": "python",
   "nbconvert_exporter": "python",
   "pygments_lexer": "ipython3",
   "version": "3.11.5"
  }
 },
 "nbformat": 4,
 "nbformat_minor": 5
}
